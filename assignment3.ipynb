{
  "cells": [
    {
      "cell_type": "markdown",
      "id": "245217cc",
      "metadata": {
        "id": "245217cc"
      },
      "source": [
        "# Assignment: SVD Preprocessing on MNIST with Logistic Regression"
      ]
    },
    {
      "cell_type": "markdown",
      "id": "deffa444",
      "metadata": {
        "id": "deffa444"
      },
      "source": [
        "## Instructions:\n",
        "In this assignment, you will apply **Singular Value Decomposition (SVD)** as a preprocessing step to the **MNIST dataset** and train a **logistic regression classifier**. You will compare the model performance and training time when using different levels of SVD for dimensionality reduction.\n",
        "\n",
        "In this assignment, you will need to:\n",
        "1. Load the MNIST dataset and normalize it.\n",
        "2. Perform SVD and reduce the dimensions of the data.\n",
        "3. Train a logistic regression model on the original and SVD-reduced data.\n",
        "4. Measure and compare the training time and accuracy of the model with varying SVD components.\n",
        "5. Plot the results and analyze how SVD impacts the performance and efficiency of the model.\n",
        "\n",
        "***\n",
        "Your tasks include:\n",
        "1. Implement SVD algorithm. You are not allowed to directly use SVD implemented by other packages, but you may use functions in NumPy. (Part 2)\n",
        "2. Explore the accuracy and time performance from different numbers of SVD components. (Part 4)\n",
        "3. Visualize the accuracy, time performance and top 5 singular vectors in the dataset, analyze and explain which number of SVD component looks best to you? (Part 4,5&6) Hint: singular vectors should be reshaped to 28x28 images for visualization.\n",
        "***\n",
        "**Note that you may not import any other function or package.** Let's get started!\n"
      ]
    },
    {
      "cell_type": "markdown",
      "id": "b3e10cb3",
      "metadata": {
        "id": "b3e10cb3"
      },
      "source": [
        "## Part 1: Load the MNIST dataset and preprocess the data"
      ]
    },
    {
      "cell_type": "code",
      "execution_count": 2,
      "id": "79f2d907",
      "metadata": {
        "colab": {
          "base_uri": "https://localhost:8080/"
        },
        "id": "79f2d907",
        "outputId": "04f3bc66-56a1-4303-ae23-224d20df4180"
      },
      "outputs": [
        {
          "output_type": "stream",
          "name": "stdout",
          "text": [
            "Loading MNIST dataset...\n"
          ]
        }
      ],
      "source": [
        "import numpy as np\n",
        "import matplotlib.pyplot as plt\n",
        "import time\n",
        "from sklearn.linear_model import LogisticRegression\n",
        "from sklearn.model_selection import train_test_split\n",
        "from sklearn.datasets import fetch_openml\n",
        "from sklearn.metrics import accuracy_score, classification_report\n",
        "\n",
        "# Load MNIST dataset\n",
        "print(\"Loading MNIST dataset...\")\n",
        "mnist = fetch_openml('mnist_784', version=1)\n",
        "X = mnist.data\n",
        "y = mnist.target\n",
        "\n",
        "# Normalize the data\n",
        "X = X / 255.0\n",
        "\n",
        "# Split into training and test sets\n",
        "X_train, X_test, y_train, y_test = train_test_split(X, y, test_size=0.2, random_state=42)\n"
      ]
    },
    {
      "cell_type": "markdown",
      "id": "28b8572d",
      "metadata": {
        "id": "28b8572d"
      },
      "source": [
        "## Part 2: Implement SVD for Dimensionality Reduction"
      ]
    },
    {
      "cell_type": "code",
      "execution_count": 3,
      "id": "b3bd59f3",
      "metadata": {
        "id": "b3bd59f3"
      },
      "outputs": [],
      "source": [
        "def apply_svd_custom(X_train, X_test, n_components):\n",
        "    # Center the data by subtracting the mean\n",
        "    mean = np.mean(X_train, axis=0)\n",
        "    X_train_centered = X_train - mean\n",
        "    X_test_centered = X_test - mean\n",
        "\n",
        "    # Compute the covariance matrix\n",
        "    A = X_train_centered\n",
        "    m, n = A.shape\n",
        "\n",
        "    if m >= n: # More samples than features\n",
        "        ATA = np.dot(A.T, A)\n",
        "        eigvals, eigvecs = np.linalg.eigh(ATA)\n",
        "        sorted_indices = np.argsort(eigvals)[::-1]\n",
        "        eigvals = eigvals[sorted_indices]\n",
        "        eigvecs = eigvecs[:, sorted_indices]\n",
        "        singular_values = np.sqrt(np.maximum(eigvals, 0))\n",
        "\n",
        "        V = eigvecs[:, :n_components]\n",
        "        S = singular_values[:n_components]\n",
        "\n",
        "        U = np.dot(A, V)\n",
        "        U /= S\n",
        "\n",
        "    else: # More features than samples\n",
        "        AAT = np.dot(A, A.T)\n",
        "        eigvals, eigvecs = np.linalg.eigh(AAT)\n",
        "        sorted_indices = np.argsort(eigvals)[::-1]\n",
        "        eigvals = eigvals[sorted_indices]\n",
        "        eigvecs = eigvecs[:, sorted_indices]\n",
        "        singular_values = np.sqrt(np.maximum(eigvals, 0))\n",
        "\n",
        "        U = eigvecs[:, :n_components]\n",
        "        S = singular_values[:n_components]\n",
        "\n",
        "        V = np.dot(A.T, U)\n",
        "        V /= S\n",
        "\n",
        "    # Project the data onto the new feature space\n",
        "    X_train_reduced = np.dot(U, np.diag(S))\n",
        "    X_test_reduced = np.dot(X_test_centered, V)\n",
        "\n",
        "    return X_train_reduced, X_test_reduced, V"
      ]
    },
    {
      "cell_type": "markdown",
      "id": "eb2a7a9d",
      "metadata": {
        "id": "eb2a7a9d"
      },
      "source": [
        "## Part 3: Train Logistic Regression and Measure Performance"
      ]
    },
    {
      "cell_type": "code",
      "execution_count": 4,
      "id": "dbfc0b10",
      "metadata": {
        "id": "dbfc0b10"
      },
      "outputs": [],
      "source": [
        "# Function to train logistic regression and track training time\n",
        "def train_logistic_regression(X_train, y_train, X_test, y_test):\n",
        "    model = LogisticRegression(max_iter=1000, solver='saga', random_state=42, multi_class='multinomial')\n",
        "\n",
        "    # Measure training time\n",
        "    start_time = time.time()\n",
        "    model.fit(X_train, y_train)\n",
        "    training_time = time.time() - start_time\n",
        "\n",
        "    y_pred = model.predict(X_test)\n",
        "    accuracy = accuracy_score(y_test, y_pred)\n",
        "\n",
        "    return accuracy, training_time\n"
      ]
    },
    {
      "cell_type": "markdown",
      "id": "2e557a05",
      "metadata": {
        "id": "2e557a05"
      },
      "source": [
        "## Part 4: Experiment with Different Levels of SVD\n",
        "\n",
        "Now, apply SVD with varying numbers of components and observe how the dimensionality reduction impacts the model's performance. Record both the accuracy and training time for each number of components.\n"
      ]
    },
    {
      "cell_type": "code",
      "execution_count": 5,
      "id": "3a460725",
      "metadata": {
        "colab": {
          "base_uri": "https://localhost:8080/"
        },
        "id": "3a460725",
        "outputId": "a431a3ef-61d0-4fc5-b96a-c48f9b2ede2d"
      },
      "outputs": [
        {
          "metadata": {
            "tags": null
          },
          "name": "stdout",
          "output_type": "stream",
          "text": [
            "Training models with different levels of SVD preprocessing...\n",
            "Applying custom SVD with 5 components...\n"
          ]
        },
        {
          "metadata": {
            "tags": null
          },
          "name": "stderr",
          "output_type": "stream",
          "text": [
            "/usr/local/lib/python3.10/dist-packages/sklearn/linear_model/_logistic.py:1247: FutureWarning: 'multi_class' was deprecated in version 1.5 and will be removed in 1.7. From then on, it will always use 'multinomial'. Leave it to its default value to avoid this warning.\n",
            "  warnings.warn(\n"
          ]
        },
        {
          "metadata": {
            "tags": null
          },
          "name": "stdout",
          "output_type": "stream",
          "text": [
            "SVD components: 5, Accuracy: 0.6796, Training time: 0.7886 seconds\n",
            "Applying custom SVD with 10 components...\n"
          ]
        },
        {
          "metadata": {
            "tags": null
          },
          "name": "stderr",
          "output_type": "stream",
          "text": [
            "/usr/local/lib/python3.10/dist-packages/sklearn/linear_model/_logistic.py:1247: FutureWarning: 'multi_class' was deprecated in version 1.5 and will be removed in 1.7. From then on, it will always use 'multinomial'. Leave it to its default value to avoid this warning.\n",
            "  warnings.warn(\n"
          ]
        },
        {
          "metadata": {
            "tags": null
          },
          "name": "stdout",
          "output_type": "stream",
          "text": [
            "SVD components: 10, Accuracy: 0.8035, Training time: 1.2102 seconds\n",
            "Applying custom SVD with 15 components...\n"
          ]
        },
        {
          "metadata": {
            "tags": null
          },
          "name": "stderr",
          "output_type": "stream",
          "text": [
            "/usr/local/lib/python3.10/dist-packages/sklearn/linear_model/_logistic.py:1247: FutureWarning: 'multi_class' was deprecated in version 1.5 and will be removed in 1.7. From then on, it will always use 'multinomial'. Leave it to its default value to avoid this warning.\n",
            "  warnings.warn(\n"
          ]
        },
        {
          "metadata": {
            "tags": null
          },
          "name": "stdout",
          "output_type": "stream",
          "text": [
            "SVD components: 15, Accuracy: 0.8424, Training time: 3.8161 seconds\n",
            "Applying custom SVD with 20 components...\n"
          ]
        },
        {
          "metadata": {
            "tags": null
          },
          "name": "stderr",
          "output_type": "stream",
          "text": [
            "/usr/local/lib/python3.10/dist-packages/sklearn/linear_model/_logistic.py:1247: FutureWarning: 'multi_class' was deprecated in version 1.5 and will be removed in 1.7. From then on, it will always use 'multinomial'. Leave it to its default value to avoid this warning.\n",
            "  warnings.warn(\n"
          ]
        },
        {
          "metadata": {
            "tags": null
          },
          "name": "stdout",
          "output_type": "stream",
          "text": [
            "SVD components: 20, Accuracy: 0.8784, Training time: 2.7317 seconds\n",
            "Applying custom SVD with 25 components...\n"
          ]
        },
        {
          "metadata": {
            "tags": null
          },
          "name": "stderr",
          "output_type": "stream",
          "text": [
            "/usr/local/lib/python3.10/dist-packages/sklearn/linear_model/_logistic.py:1247: FutureWarning: 'multi_class' was deprecated in version 1.5 and will be removed in 1.7. From then on, it will always use 'multinomial'. Leave it to its default value to avoid this warning.\n",
            "  warnings.warn(\n"
          ]
        },
        {
          "metadata": {
            "tags": null
          },
          "name": "stdout",
          "output_type": "stream",
          "text": [
            "SVD components: 25, Accuracy: 0.8855, Training time: 6.7231 seconds\n",
            "Applying custom SVD with 30 components...\n"
          ]
        },
        {
          "metadata": {
            "tags": null
          },
          "name": "stderr",
          "output_type": "stream",
          "text": [
            "/usr/local/lib/python3.10/dist-packages/sklearn/linear_model/_logistic.py:1247: FutureWarning: 'multi_class' was deprecated in version 1.5 and will be removed in 1.7. From then on, it will always use 'multinomial'. Leave it to its default value to avoid this warning.\n",
            "  warnings.warn(\n"
          ]
        },
        {
          "metadata": {
            "tags": null
          },
          "name": "stdout",
          "output_type": "stream",
          "text": [
            "SVD components: 30, Accuracy: 0.8922, Training time: 6.0143 seconds\n",
            "Applying custom SVD with 35 components...\n"
          ]
        },
        {
          "metadata": {
            "tags": null
          },
          "name": "stderr",
          "output_type": "stream",
          "text": [
            "/usr/local/lib/python3.10/dist-packages/sklearn/linear_model/_logistic.py:1247: FutureWarning: 'multi_class' was deprecated in version 1.5 and will be removed in 1.7. From then on, it will always use 'multinomial'. Leave it to its default value to avoid this warning.\n",
            "  warnings.warn(\n"
          ]
        },
        {
          "metadata": {
            "tags": null
          },
          "name": "stdout",
          "output_type": "stream",
          "text": [
            "SVD components: 35, Accuracy: 0.8999, Training time: 7.5159 seconds\n",
            "Applying custom SVD with 40 components...\n"
          ]
        },
        {
          "metadata": {
            "tags": null
          },
          "name": "stderr",
          "output_type": "stream",
          "text": [
            "/usr/local/lib/python3.10/dist-packages/sklearn/linear_model/_logistic.py:1247: FutureWarning: 'multi_class' was deprecated in version 1.5 and will be removed in 1.7. From then on, it will always use 'multinomial'. Leave it to its default value to avoid this warning.\n",
            "  warnings.warn(\n"
          ]
        },
        {
          "metadata": {
            "tags": null
          },
          "name": "stdout",
          "output_type": "stream",
          "text": [
            "SVD components: 40, Accuracy: 0.9022, Training time: 9.2760 seconds\n",
            "Applying custom SVD with 45 components...\n"
          ]
        },
        {
          "metadata": {
            "tags": null
          },
          "name": "stderr",
          "output_type": "stream",
          "text": [
            "/usr/local/lib/python3.10/dist-packages/sklearn/linear_model/_logistic.py:1247: FutureWarning: 'multi_class' was deprecated in version 1.5 and will be removed in 1.7. From then on, it will always use 'multinomial'. Leave it to its default value to avoid this warning.\n",
            "  warnings.warn(\n"
          ]
        },
        {
          "metadata": {
            "tags": null
          },
          "name": "stdout",
          "output_type": "stream",
          "text": [
            "SVD components: 45, Accuracy: 0.9064, Training time: 10.9105 seconds\n",
            "Applying custom SVD with 50 components...\n"
          ]
        },
        {
          "metadata": {
            "tags": null
          },
          "name": "stderr",
          "output_type": "stream",
          "text": [
            "/usr/local/lib/python3.10/dist-packages/sklearn/linear_model/_logistic.py:1247: FutureWarning: 'multi_class' was deprecated in version 1.5 and will be removed in 1.7. From then on, it will always use 'multinomial'. Leave it to its default value to avoid this warning.\n",
            "  warnings.warn(\n"
          ]
        },
        {
          "metadata": {
            "tags": null
          },
          "name": "stdout",
          "output_type": "stream",
          "text": [
            "SVD components: 50, Accuracy: 0.9080, Training time: 14.0253 seconds\n",
            "Applying custom SVD with 55 components...\n"
          ]
        },
        {
          "metadata": {
            "tags": null
          },
          "name": "stderr",
          "output_type": "stream",
          "text": [
            "/usr/local/lib/python3.10/dist-packages/sklearn/linear_model/_logistic.py:1247: FutureWarning: 'multi_class' was deprecated in version 1.5 and will be removed in 1.7. From then on, it will always use 'multinomial'. Leave it to its default value to avoid this warning.\n",
            "  warnings.warn(\n"
          ]
        },
        {
          "metadata": {
            "tags": null
          },
          "name": "stdout",
          "output_type": "stream",
          "text": [
            "SVD components: 55, Accuracy: 0.9114, Training time: 20.0068 seconds\n",
            "Applying custom SVD with 60 components...\n"
          ]
        },
        {
          "metadata": {
            "tags": null
          },
          "name": "stderr",
          "output_type": "stream",
          "text": [
            "/usr/local/lib/python3.10/dist-packages/sklearn/linear_model/_logistic.py:1247: FutureWarning: 'multi_class' was deprecated in version 1.5 and will be removed in 1.7. From then on, it will always use 'multinomial'. Leave it to its default value to avoid this warning.\n",
            "  warnings.warn(\n"
          ]
        },
        {
          "metadata": {
            "tags": null
          },
          "name": "stdout",
          "output_type": "stream",
          "text": [
            "SVD components: 60, Accuracy: 0.9131, Training time: 16.4639 seconds\n",
            "Applying custom SVD with 65 components...\n"
          ]
        },
        {
          "metadata": {
            "tags": null
          },
          "name": "stderr",
          "output_type": "stream",
          "text": [
            "/usr/local/lib/python3.10/dist-packages/sklearn/linear_model/_logistic.py:1247: FutureWarning: 'multi_class' was deprecated in version 1.5 and will be removed in 1.7. From then on, it will always use 'multinomial'. Leave it to its default value to avoid this warning.\n",
            "  warnings.warn(\n"
          ]
        },
        {
          "metadata": {
            "tags": null
          },
          "name": "stdout",
          "output_type": "stream",
          "text": [
            "SVD components: 65, Accuracy: 0.9134, Training time: 19.2535 seconds\n",
            "Applying custom SVD with 70 components...\n"
          ]
        },
        {
          "metadata": {
            "tags": null
          },
          "name": "stderr",
          "output_type": "stream",
          "text": [
            "/usr/local/lib/python3.10/dist-packages/sklearn/linear_model/_logistic.py:1247: FutureWarning: 'multi_class' was deprecated in version 1.5 and will be removed in 1.7. From then on, it will always use 'multinomial'. Leave it to its default value to avoid this warning.\n",
            "  warnings.warn(\n"
          ]
        },
        {
          "metadata": {
            "tags": null
          },
          "name": "stdout",
          "output_type": "stream",
          "text": [
            "SVD components: 70, Accuracy: 0.9147, Training time: 19.2389 seconds\n",
            "Applying custom SVD with 75 components...\n"
          ]
        },
        {
          "metadata": {
            "tags": null
          },
          "name": "stderr",
          "output_type": "stream",
          "text": [
            "/usr/local/lib/python3.10/dist-packages/sklearn/linear_model/_logistic.py:1247: FutureWarning: 'multi_class' was deprecated in version 1.5 and will be removed in 1.7. From then on, it will always use 'multinomial'. Leave it to its default value to avoid this warning.\n",
            "  warnings.warn(\n"
          ]
        },
        {
          "metadata": {
            "tags": null
          },
          "name": "stdout",
          "output_type": "stream",
          "text": [
            "SVD components: 75, Accuracy: 0.9152, Training time: 25.3764 seconds\n",
            "Applying custom SVD with 80 components...\n"
          ]
        },
        {
          "metadata": {
            "tags": null
          },
          "name": "stderr",
          "output_type": "stream",
          "text": [
            "/usr/local/lib/python3.10/dist-packages/sklearn/linear_model/_logistic.py:1247: FutureWarning: 'multi_class' was deprecated in version 1.5 and will be removed in 1.7. From then on, it will always use 'multinomial'. Leave it to its default value to avoid this warning.\n",
            "  warnings.warn(\n"
          ]
        },
        {
          "metadata": {
            "tags": null
          },
          "name": "stdout",
          "output_type": "stream",
          "text": [
            "SVD components: 80, Accuracy: 0.9164, Training time: 30.1549 seconds\n",
            "Applying custom SVD with 85 components...\n"
          ]
        },
        {
          "metadata": {
            "tags": null
          },
          "name": "stderr",
          "output_type": "stream",
          "text": [
            "/usr/local/lib/python3.10/dist-packages/sklearn/linear_model/_logistic.py:1247: FutureWarning: 'multi_class' was deprecated in version 1.5 and will be removed in 1.7. From then on, it will always use 'multinomial'. Leave it to its default value to avoid this warning.\n",
            "  warnings.warn(\n"
          ]
        },
        {
          "metadata": {
            "tags": null
          },
          "name": "stdout",
          "output_type": "stream",
          "text": [
            "SVD components: 85, Accuracy: 0.9178, Training time: 34.2960 seconds\n",
            "Applying custom SVD with 90 components...\n"
          ]
        },
        {
          "metadata": {
            "tags": null
          },
          "name": "stderr",
          "output_type": "stream",
          "text": [
            "/usr/local/lib/python3.10/dist-packages/sklearn/linear_model/_logistic.py:1247: FutureWarning: 'multi_class' was deprecated in version 1.5 and will be removed in 1.7. From then on, it will always use 'multinomial'. Leave it to its default value to avoid this warning.\n",
            "  warnings.warn(\n"
          ]
        },
        {
          "metadata": {
            "tags": null
          },
          "name": "stdout",
          "output_type": "stream",
          "text": [
            "SVD components: 90, Accuracy: 0.9185, Training time: 36.7478 seconds\n",
            "Applying custom SVD with 95 components...\n"
          ]
        },
        {
          "metadata": {
            "tags": null
          },
          "name": "stderr",
          "output_type": "stream",
          "text": [
            "/usr/local/lib/python3.10/dist-packages/sklearn/linear_model/_logistic.py:1247: FutureWarning: 'multi_class' was deprecated in version 1.5 and will be removed in 1.7. From then on, it will always use 'multinomial'. Leave it to its default value to avoid this warning.\n",
            "  warnings.warn(\n"
          ]
        },
        {
          "metadata": {
            "tags": null
          },
          "name": "stdout",
          "output_type": "stream",
          "text": [
            "SVD components: 95, Accuracy: 0.9179, Training time: 40.7025 seconds\n",
            "Applying custom SVD with 100 components...\n"
          ]
        },
        {
          "metadata": {
            "tags": null
          },
          "name": "stderr",
          "output_type": "stream",
          "text": [
            "/usr/local/lib/python3.10/dist-packages/sklearn/linear_model/_logistic.py:1247: FutureWarning: 'multi_class' was deprecated in version 1.5 and will be removed in 1.7. From then on, it will always use 'multinomial'. Leave it to its default value to avoid this warning.\n",
            "  warnings.warn(\n"
          ]
        },
        {
          "metadata": {
            "tags": null
          },
          "name": "stdout",
          "output_type": "stream",
          "text": [
            "SVD components: 100, Accuracy: 0.9181, Training time: 42.3088 seconds\n"
          ]
        }
      ],
      "source": [
        "svd_components = [5*k for k in range(1, 21)]  # You need to decide what number to search...\n",
        "\n",
        "# Store the results\n",
        "results = []\n",
        "\n",
        "print(\"Training models with different levels of SVD preprocessing...\")\n",
        "for n_components in svd_components:\n",
        "    print(f\"Applying custom SVD with {n_components} components...\")\n",
        "\n",
        "    # Apply SVD to the training and test sets\n",
        "    # Call apply_svd_custom() here...\n",
        "    X_train_svd, X_test_svd, X_test_Vh = apply_svd_custom(X_train, X_test, n_components)\n",
        "\n",
        "    # Train the logistic regression model and get accuracy and training time\n",
        "    accuracy, training_time = train_logistic_regression(X_train_svd, y_train, X_test_svd, y_test)\n",
        "\n",
        "    print(f\"SVD components: {n_components}, Accuracy: {accuracy:.4f}, Training time: {training_time:.4f} seconds\")\n",
        "\n",
        "    results.append({'n_components': n_components, 'accuracy': accuracy, 'training_time': training_time})"
      ]
    },
    {
      "cell_type": "markdown",
      "id": "ea7aca12",
      "metadata": {
        "id": "ea7aca12"
      },
      "source": [
        "## Part 5: Visualize and Analyze the Results\n",
        "\n",
        "Finally, plot the accuracy, training time as a function of the number of SVD components, and top 5 singular vectors. This will help you understand the trade-off between dimensionality reduction, accuracy, and model training time, and how SVD generally works. Hint: singular vectors should be reshaped to 28x28 images for visualization.\n"
      ]
    },
    {
      "cell_type": "code",
      "execution_count": 9,
      "id": "92ef0497",
      "metadata": {
        "id": "92ef0497",
        "colab": {
          "base_uri": "https://localhost:8080/",
          "height": 682
        },
        "outputId": "b0117063-c6d8-49fe-c48c-fb543ed5ae30"
      },
      "outputs": [
        {
          "output_type": "display_data",
          "data": {
            "text/plain": [
              "<Figure size 1200x500 with 2 Axes>"
            ],
            "image/png": "[encoded data removed]"
          },
          "metadata": {}
        },
        {
          "output_type": "display_data",
          "data": {
            "text/plain": [
              "<Figure size 1000x200 with 5 Axes>"
            ],
            "image/png": "[encoded data removed]"
          },
          "metadata": {}
        }
      ],
      "source": [
        "## Your implementation here...\n",
        "## You may add necessary lines in Part 4 to access data for visualization\n",
        "components = [result['n_components'] for result in results]\n",
        "accuracies = [result['accuracy'] for result in results]\n",
        "training_times = [result['training_time'] for result in results]\n",
        "\n",
        "plt.figure(figsize=(12, 5))\n",
        "\n",
        "plt.subplot(1, 2, 1)\n",
        "plt.plot(components, accuracies)\n",
        "plt.title('Accuracy vs. Number of Components')\n",
        "plt.xlabel('Number of Components')\n",
        "plt.ylabel('Accuracy')\n",
        "\n",
        "plt.subplot(1, 2, 2)\n",
        "plt.plot(components, training_times)\n",
        "plt.title('Training Time vs. Number of Components')\n",
        "plt.xlabel('Number of Components')\n",
        "plt.ylabel('Training Time (seconds)')\n",
        "\n",
        "plt.tight_layout()\n",
        "plt.show()\n",
        "\n",
        "# Plot the top 5 singular vectors\n",
        "# Assuming X_test_Vh contains singular vectors as columns\n",
        "singular_vectors = X_test_Vh.T[:5]  # Transpose to access singular vectors as rows\n",
        "\n",
        "plt.figure(figsize=(10, 2))\n",
        "for i in range(5):\n",
        "  plt.subplot(1, 5, i + 1)\n",
        "  plt.imshow(singular_vectors[i].reshape((28,28)), cmap='gray')\n",
        "  plt.title(f'SV {i + 1}')\n",
        "  plt.axis('off')\n",
        "plt.show()"
      ]
    },
    {
      "cell_type": "markdown",
      "id": "4210569a",
      "metadata": {
        "id": "4210569a"
      },
      "source": [
        "## Part 6: Analyze / Conclusion\n",
        "\n",
        "YOUR ANSWER:"
      ]
    },
    {
      "cell_type": "code",
      "execution_count": null,
      "id": "d47f043c",
      "metadata": {
        "colab": {
          "background_save": true
        },
        "id": "d47f043c"
      },
      "outputs": [],
      "source": [
        "# Significant dimensionality reduction results in faster training time but\n",
        "# heavily sacrifices accuracy, whereas a higher number of components preserves\n",
        "# more information which leads to higher accuracy but sacrifices training time.\n",
        "\n",
        "# Eliminating less significant components can reduce noise and potentially\n",
        "# improve model generalization. So too much reduction harms performance while\n",
        "# too little offers minimal computational benefits.\n",
        "\n",
        "# The sweet spot seems to be around 20-40 components where high accuracy is\n",
        "# achieved while preserving training time."
      ]
    }
  ],
  "metadata": {
    "colab": {
      "provenance": []
    },
    "kernelspec": {
      "display_name": "Python 3",
      "language": "python",
      "name": "python3"
    },
    "language_info": {
      "codemirror_mode": {
        "name": "ipython",
        "version": 3
      },
      "file_extension": ".py",
      "mimetype": "text/x-python",
      "name": "python",
      "nbconvert_exporter": "python",
      "pygments_lexer": "ipython3",
      "version": "3.8.10"
    }
  },
  "nbformat": 4,
  "nbformat_minor": 5
}